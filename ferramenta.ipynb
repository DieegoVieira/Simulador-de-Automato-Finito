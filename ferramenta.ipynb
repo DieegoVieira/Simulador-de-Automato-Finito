{
  "nbformat": 4,
  "nbformat_minor": 0,
  "metadata": {
    "colab": {
      "provenance": []
    },
    "kernelspec": {
      "name": "python3",
      "display_name": "Python 3"
    },
    "language_info": {
      "name": "python"
    }
  },
  "cells": [
    {
      "cell_type": "code",
      "execution_count": 2,
      "metadata": {
        "colab": {
          "base_uri": "https://localhost:8080/"
        },
        "id": "S9sVNspArSg9",
        "outputId": "8c99eed2-7644-450b-8317-920d826cd544"
      },
      "outputs": [
        {
          "output_type": "stream",
          "name": "stdout",
          "text": [
            "Uso: python nome_do_script.py <arquivo_automato> <arquivo_entradas> <arquivo_saida>\n"
          ]
        }
      ],
      "source": [
        "import json\n",
        "import csv\n",
        "import sys\n",
        "import time\n",
        "\n",
        "def ler_automato_json(arquivo):\n",
        "    try:\n",
        "        with open(arquivo, 'r', encoding='utf-8') as file:\n",
        "            automato = json.load(file)\n",
        "        return automato\n",
        "    except Exception as erro:\n",
        "        print(f\"Erro ao ler o arquivo {arquivo}: {erro}\")\n",
        "        raise erro\n",
        "\n",
        "def ler_entradas(arquivo):\n",
        "    try:\n",
        "        with open(arquivo, 'r', encoding='utf-8') as file:\n",
        "            leitor_csv = csv.reader(file, delimiter=';')\n",
        "            entradas = [linha for linha in leitor_csv]\n",
        "        return entradas\n",
        "    except Exception as erro:\n",
        "        print(f\"Erro ao ler o arquivo {arquivo}: {erro}\")\n",
        "        raise erro\n",
        "\n",
        "def resposta_do_automato(automato, entrada):\n",
        "    estados_atuais = {automato['initial']}\n",
        "\n",
        "    for simbolo in entrada:\n",
        "        novos_estados = set()\n",
        "        for estado in estados_atuais:\n",
        "            for transicao in automato['transitions']:\n",
        "                if transicao['from'] == estado and transicao['read'] == simbolo:\n",
        "                    novos_estados.add(transicao['to'])\n",
        "        estados_atuais = novos_estados\n",
        "\n",
        "    for estado_final in automato['final']:\n",
        "        if estado_final in estados_atuais:\n",
        "            return True\n",
        "    return False\n",
        "\n",
        "def main():\n",
        "    try:\n",
        "        if len(sys.argv) != 4:\n",
        "            print(\"Uso: python nome_do_script.py <arquivo_automato> <arquivo_entradas> <arquivo_saida>\")\n",
        "            return  # Exit the script if the wrong number of arguments is provided\n",
        "\n",
        "        arquivo_automato = sys.argv[1]\n",
        "        arquivo_entradas = sys.argv[2]\n",
        "        arquivo_saida = sys.argv[3]\n",
        "\n",
        "        automato = ler_automato_json(arquivo_automato)\n",
        "        entradas = ler_entradas(arquivo_entradas)\n",
        "\n",
        "        resultados = []\n",
        "        for entrada in entradas:\n",
        "            palavra = entrada[0]\n",
        "            saida_esperada = int(entrada[1])\n",
        "            tempo_inicial = time.perf_counter()\n",
        "            aceita = resposta_do_automato(automato, palavra)\n",
        "            tempo_final = time.perf_counter()\n",
        "            tempo_de_execucao = tempo_final - tempo_inicial\n",
        "            saida_obtida = 1 if aceita else 0\n",
        "            resultados.append(f\"{palavra};{saida_esperada};{saida_obtida};{tempo_de_execucao:.3f}\")\n",
        "\n",
        "        with open(arquivo_saida, 'w', encoding='utf-8') as file:\n",
        "            for resultado in resultados:\n",
        "                file.write(resultado + '\\n')\n",
        "\n",
        "        print(f\"Resultados impressos em {arquivo_saida}\")\n",
        "\n",
        "    except Exception as erro:\n",
        "        print(f\"Erro durante a execução da função main: {erro}\")\n",
        "        raise erro\n",
        "\n",
        "if __name__ == \"__main__\":\n",
        "    main()\n"
      ]
    }
  ]
}